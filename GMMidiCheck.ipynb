{
 "cells": [
  {
   "cell_type": "code",
   "execution_count": 3,
   "metadata": {},
   "outputs": [
    {
     "name": "stdout",
     "output_type": "stream",
     "text": [
      "['/Users/yamato/Src/practice_mido',\n",
      " '/Users/yamato/.anyenv/envs/pyenv/versions/miniconda3-latest/envs/practice_mido/lib/python38.zip',\n",
      " '/Users/yamato/.anyenv/envs/pyenv/versions/miniconda3-latest/envs/practice_mido/lib/python3.8',\n",
      " '/Users/yamato/.anyenv/envs/pyenv/versions/miniconda3-latest/envs/practice_mido/lib/python3.8/lib-dynload',\n",
      " '',\n",
      " '/Users/yamato/.anyenv/envs/pyenv/versions/miniconda3-latest/envs/practice_mido/lib/python3.8/site-packages',\n",
      " '/Users/yamato/.anyenv/envs/pyenv/versions/miniconda3-latest/envs/practice_mido/lib/python3.8/site-packages/aeosa',\n",
      " '/Users/yamato/.anyenv/envs/pyenv/versions/miniconda3-latest/envs/practice_mido/lib/python3.8/site-packages/IPython/extensions',\n",
      " '/Users/yamato/.ipython']\n"
     ]
    }
   ],
   "source": [
    "import pprint\n",
    "import sys\n",
    "# 起動直後に一度だけやる。\n",
    "# sys.path.append('./Users/yamato/Src/practice_mido/module')\n",
    "# とはいえ起動時にjupyter labの実行ディレクトリは読み込まれているようだ。\n",
    "\n",
    "pprint.pprint(sys.path)"
   ]
  },
  {
   "cell_type": "code",
   "execution_count": 8,
   "metadata": {},
   "outputs": [],
   "source": [
    "import os\n",
    "import midi_utill\n",
    "import importlib\n",
    "from tqdm import tqdm\n",
    "\n",
    "midiFileDir = '130000_Pop_Rock_Classical_Videogame_EDM_MIDI_Archive[[]6_19_15[]]'\n"
   ]
  },
  {
   "cell_type": "code",
   "execution_count": 9,
   "metadata": {},
   "outputs": [
    {
     "data": {
      "text/plain": [
       "['130000_Pop_Rock_Classical_Videogame_EDM_MIDI_Archive[6_19_15]/0/040_-_Ibiza_Dreams__J.D._20110615094526.mid',\n",
       " '130000_Pop_Rock_Classical_Videogame_EDM_MIDI_Archive[6_19_15]/0/009count.mid',\n",
       " '130000_Pop_Rock_Classical_Videogame_EDM_MIDI_Archive[6_19_15]/0/040 - Ibiza Dreams.mid',\n",
       " '130000_Pop_Rock_Classical_Videogame_EDM_MIDI_Archive[6_19_15]/0/09carnivalcuckoo.mid',\n",
       " '130000_Pop_Rock_Classical_Videogame_EDM_MIDI_Archive[6_19_15]/0/040 Feat Erica Baxter - Dreams (Lost Witness Remix).mid',\n",
       " '130000_Pop_Rock_Classical_Videogame_EDM_MIDI_Archive[6_19_15]/0/040FeatEricaBaxter_-_DreamsLostWitnessRemix__SamCera_20120708165703.mid',\n",
       " '130000_Pop_Rock_Classical_Videogame_EDM_MIDI_Archive[6_19_15]/0/070527 (Oh for a Poet).MID',\n",
       " '130000_Pop_Rock_Classical_Videogame_EDM_MIDI_Archive[6_19_15]/0/070110 (The Raven Days).MID',\n",
       " '130000_Pop_Rock_Classical_Videogame_EDM_MIDI_Archive[6_19_15]/0/070606 (Hail the Comic Song).MID',\n",
       " '130000_Pop_Rock_Classical_Videogame_EDM_MIDI_Archive[6_19_15]/0/Celine Dion - Fly 2.MID',\n",
       " \"130000_Pop_Rock_Classical_Videogame_EDM_MIDI_Archive[6_19_15]/0/070102 (I'll Love You Always).MID\",\n",
       " '130000_Pop_Rock_Classical_Videogame_EDM_MIDI_Archive[6_19_15]/0/051230.MID',\n",
       " '130000_Pop_Rock_Classical_Videogame_EDM_MIDI_Archive[6_19_15]/0/050620B (The Children of the Night).MID',\n",
       " '130000_Pop_Rock_Classical_Videogame_EDM_MIDI_Archive[6_19_15]/0/070107 (Music of the Third Kind).MID',\n",
       " '130000_Pop_Rock_Classical_Videogame_EDM_MIDI_Archive[6_19_15]/0/060107-Sonnet 73.MID',\n",
       " '130000_Pop_Rock_Classical_Videogame_EDM_MIDI_Archive[6_19_15]/0/060222-Tribute to Mozart.MID']"
      ]
     },
     "execution_count": 9,
     "metadata": {},
     "output_type": "execute_result"
    }
   ],
   "source": [
    "importlib.reload(midi_utill)\n",
    "\n",
    "midi_utill.getMidiFileNames(midiFileDir+'/0')\n",
    "\n"
   ]
  },
  {
   "cell_type": "code",
   "execution_count": 10,
   "metadata": {},
   "outputs": [
    {
     "name": "stdout",
     "output_type": "stream",
     "text": [
      "130000_Pop_Rock_Classical_Videogame_EDM_MIDI_Archive[6_19_15]/0/040_-_Ibiza_Dreams__J.D._20110615094526.mid\n",
      "False\n",
      "False\n",
      "False\n",
      "130000_Pop_Rock_Classical_Videogame_EDM_MIDI_Archive[6_19_15]/0/009count.mid\n",
      "False\n",
      "False\n",
      "False\n",
      "130000_Pop_Rock_Classical_Videogame_EDM_MIDI_Archive[6_19_15]/0/040 - Ibiza Dreams.mid\n",
      "False\n",
      "False\n",
      "False\n",
      "130000_Pop_Rock_Classical_Videogame_EDM_MIDI_Archive[6_19_15]/0/09carnivalcuckoo.mid\n",
      "False\n",
      "False\n",
      "False\n",
      "130000_Pop_Rock_Classical_Videogame_EDM_MIDI_Archive[6_19_15]/0/040 Feat Erica Baxter - Dreams (Lost Witness Remix).mid\n",
      "False\n",
      "False\n",
      "False\n",
      "130000_Pop_Rock_Classical_Videogame_EDM_MIDI_Archive[6_19_15]/0/040FeatEricaBaxter_-_DreamsLostWitnessRemix__SamCera_20120708165703.mid\n",
      "False\n",
      "False\n",
      "False\n",
      "130000_Pop_Rock_Classical_Videogame_EDM_MIDI_Archive[6_19_15]/0/070527 (Oh for a Poet).MID\n",
      "False\n",
      "False\n",
      "False\n",
      "130000_Pop_Rock_Classical_Videogame_EDM_MIDI_Archive[6_19_15]/0/070110 (The Raven Days).MID\n",
      "False\n",
      "False\n",
      "False\n",
      "130000_Pop_Rock_Classical_Videogame_EDM_MIDI_Archive[6_19_15]/0/070606 (Hail the Comic Song).MID\n",
      "False\n",
      "False\n",
      "False\n",
      "130000_Pop_Rock_Classical_Videogame_EDM_MIDI_Archive[6_19_15]/0/Celine Dion - Fly 2.MID\n",
      "False\n",
      "False\n",
      "False\n",
      "130000_Pop_Rock_Classical_Videogame_EDM_MIDI_Archive[6_19_15]/0/070102 (I'll Love You Always).MID\n",
      "False\n",
      "False\n",
      "False\n",
      "130000_Pop_Rock_Classical_Videogame_EDM_MIDI_Archive[6_19_15]/0/051230.MID\n",
      "False\n",
      "False\n",
      "False\n",
      "130000_Pop_Rock_Classical_Videogame_EDM_MIDI_Archive[6_19_15]/0/050620B (The Children of the Night).MID\n",
      "False\n",
      "False\n",
      "False\n",
      "130000_Pop_Rock_Classical_Videogame_EDM_MIDI_Archive[6_19_15]/0/070107 (Music of the Third Kind).MID\n",
      "False\n",
      "False\n",
      "False\n",
      "130000_Pop_Rock_Classical_Videogame_EDM_MIDI_Archive[6_19_15]/0/060107-Sonnet 73.MID\n",
      "False\n",
      "False\n",
      "False\n",
      "130000_Pop_Rock_Classical_Videogame_EDM_MIDI_Archive[6_19_15]/0/060222-Tribute to Mozart.MID\n",
      "False\n",
      "False\n",
      "False\n"
     ]
    }
   ],
   "source": [
    "importlib.reload(midi_utill)\n",
    "\n",
    "# midi_utill.getMidiHexData(\"ADAGIET6.mid\") # hexでのmidiが取れた\n",
    "\n",
    "for midifilename in midi_utill.getMidiFileNames(midiFileDir+'/0'):\n",
    "    print(midifilename)\n",
    "    print(midi_utill.isGM(midifilename))\n",
    "    print(midi_utill.isGS(midifilename))\n",
    "    print(midi_utill.isXG(midifilename))\n",
    "    \n",
    "\n"
   ]
  },
  {
   "cell_type": "code",
   "execution_count": 7,
   "metadata": {},
   "outputs": [
    {
     "name": "stderr",
     "output_type": "stream",
     "text": [
      "100%|██████████| 128451/128451 [6:41:10<00:00,  5.34it/s]  "
     ]
    },
    {
     "name": "stdout",
     "output_type": "stream",
     "text": [
      "0\n",
      "1503\n",
      "124052\n"
     ]
    },
    {
     "name": "stderr",
     "output_type": "stream",
     "text": [
      "\n"
     ]
    }
   ],
   "source": [
    "importlib.reload(midi_utill)\n",
    "\n",
    "# reditのmidiデータのディレクトリを一覧で取得 < done\n",
    "# それをforで回しつつ、glob でファイルパスを取得\n",
    "\n",
    "\n",
    "dirList = midi_utill.getDirList(midiFileDir)\n",
    "count = 0\n",
    "countGM = 0\n",
    "midiFileNames = []\n",
    "GMMidiFileNames = []\n",
    "\n",
    "for dirPath in dirList:\n",
    "    count = count + len(midi_utill.getMidiFileNames(midi_utill.escapeChar(dirPath)))\n",
    "    midiFileNames.extend(midi_utill.getMidiFileNames(midi_utill.escapeChar(dirPath)))\n",
    "    \n",
    "trueGM = 0\n",
    "falseGM = 0\n",
    "\n",
    "for midiFileName in tqdm(midiFileNames):\n",
    "    try:\n",
    "        if midi_utill.isGMGSXG(midiFileName):\n",
    "            trueGM += 1\n",
    "        else:\n",
    "            falseGM += 1\n",
    "    except:\n",
    "        pass\n",
    "\n",
    "# print(len(midiFileNames))\n",
    "# print(midiFileNames[0])\n",
    "print(len(GMMidiFileNames))\n",
    "# print(count)\n",
    "print(trueGM)\n",
    "print(falseGM)\n",
    "\n",
    "# ファイルパスを取得したらそれのファイルをmidoでオープン\n",
    "# オープンしたファイルのSysExをチェック"
   ]
  },
  {
   "cell_type": "code",
   "execution_count": 85,
   "metadata": {},
   "outputs": [
    {
     "name": "stdout",
     "output_type": "stream",
     "text": [
      "False\n",
      "130000_Pop_Rock_Classical_Videogame_EDM_MIDI_Archive[6_19_15]/Classical Archives - The Greats (MIDI)/Buxethude Buxwv138 Prelude.mid\n"
     ]
    }
   ],
   "source": [
    "\n"
   ]
  },
  {
   "cell_type": "code",
   "execution_count": null,
   "metadata": {},
   "outputs": [],
   "source": []
  },
  {
   "cell_type": "code",
   "execution_count": null,
   "metadata": {},
   "outputs": [],
   "source": []
  }
 ],
 "metadata": {
  "kernelspec": {
   "display_name": "Python 3",
   "language": "python",
   "name": "python3"
  },
  "language_info": {
   "codemirror_mode": {
    "name": "ipython",
    "version": 3
   },
   "file_extension": ".py",
   "mimetype": "text/x-python",
   "name": "python",
   "nbconvert_exporter": "python",
   "pygments_lexer": "ipython3",
   "version": "3.8.5"
  }
 },
 "nbformat": 4,
 "nbformat_minor": 4
}
