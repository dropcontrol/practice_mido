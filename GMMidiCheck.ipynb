{
 "cells": [
  {
   "cell_type": "code",
   "execution_count": 3,
   "metadata": {},
   "outputs": [],
   "source": [
    "import pprint\n",
    "import sys\n",
    "# 起動直後に一度だけやる。\n",
    "# sys.path.append('./Users/yamato/Src/practice_mido/module')\n",
    "# とはいえ起動時にjupyter labの実行ディレクトリは読み込まれているようだ。\n",
    "\n",
    "pprint.pprint(sys.path)"
   ]
  },
  {
   "cell_type": "code",
   "execution_count": 8,
   "metadata": {},
   "outputs": [],
   "source": [
    "import os\n",
    "import midi_utill\n",
    "import importlib\n",
    "from tqdm import tqdm\n",
    "\n",
    "midiFileDir = '130000_Pop_Rock_Classical_Videogame_EDM_MIDI_Archive[[]6_19_15[]]'\n"
   ]
  },
  {
   "cell_type": "code",
   "execution_count": 9,
   "metadata": {},
   "outputs": [],
   "source": [
    "importlib.reload(midi_utill)\n",
    "\n",
    "midi_utill.getMidiFileNames(midiFileDir+'/0')\n",
    "\n"
   ]
  },
  {
   "cell_type": "code",
   "execution_count": 10,
   "metadata": {},
   "outputs": [],
   "source": [
    "importlib.reload(midi_utill)\n",
    "\n",
    "# midi_utill.getMidiHexData(\"ADAGIET6.mid\") # hexでのmidiが取れた\n",
    "\n",
    "for midifilename in midi_utill.getMidiFileNames(midiFileDir+'/0'):\n",
    "    print(midifilename)\n",
    "    print(midi_utill.isGM(midifilename))\n",
    "    print(midi_utill.isGS(midifilename))\n",
    "    print(midi_utill.isXG(midifilename))\n",
    "    \n",
    "\n"
   ]
  },
  {
   "cell_type": "code",
   "execution_count": 7,
   "metadata": {},
   "outputs": [
    {
     "name": "stderr",
     "output_type": "stream",
     "text": [
      "100%|██████████| 128451/128451 [6:41:10<00:00,  5.34it/s]  "
     ]
    },
    {
     "name": "stdout",
     "output_type": "stream",
     "text": [
      "0\n",
      "1503\n",
      "124052\n"
     ]
    },
    {
     "name": "stderr",
     "output_type": "stream",
     "text": [
      "\n"
     ]
    }
   ],
   "source": [
    "importlib.reload(midi_utill)\n",
    "\n",
    "# reditのmidiデータのディレクトリを一覧で取得 < done\n",
    "# それをforで回しつつ、glob でファイルパスを取得\n",
    "\n",
    "\n",
    "dirList = midi_utill.getDirList(midiFileDir)\n",
    "count = 0\n",
    "countGM = 0\n",
    "midiFileNames = []\n",
    "GMMidiFileNames = []\n",
    "\n",
    "for dirPath in dirList:\n",
    "    count = count + len(midi_utill.getMidiFileNames(midi_utill.escapeChar(dirPath)))\n",
    "    midiFileNames.extend(midi_utill.getMidiFileNames(midi_utill.escapeChar(dirPath)))\n",
    "    \n",
    "trueGM = 0\n",
    "falseGM = 0\n",
    "\n",
    "for midiFileName in tqdm(midiFileNames):\n",
    "    try:\n",
    "        if midi_utill.isGMGSXG(midiFileName):\n",
    "            trueGM += 1\n",
    "        else:\n",
    "            falseGM += 1\n",
    "    except:\n",
    "        pass\n",
    "\n",
    "# print(len(midiFileNames))\n",
    "# print(midiFileNames[0])\n",
    "print(len(GMMidiFileNames))\n",
    "# print(count)\n",
    "print(trueGM)\n",
    "print(falseGM)\n",
    "\n",
    "# ファイルパスを取得したらそれのファイルをmidoでオープン\n",
    "# オープンしたファイルのSysExをチェック"
   ]
  },
  {
   "cell_type": "code",
   "execution_count": 85,
   "metadata": {},
   "outputs": [
    {
     "name": "stdout",
     "output_type": "stream",
     "text": [
      "False\n",
      "130000_Pop_Rock_Classical_Videogame_EDM_MIDI_Archive[6_19_15]/Classical Archives - The Greats (MIDI)/Buxethude Buxwv138 Prelude.mid\n"
     ]
    }
   ],
   "source": [
    "\n"
   ]
  },
  {
   "cell_type": "code",
   "execution_count": null,
   "metadata": {},
   "outputs": [],
   "source": []
  },
  {
   "cell_type": "code",
   "execution_count": null,
   "metadata": {},
   "outputs": [],
   "source": []
  }
 ],
 "metadata": {
  "kernelspec": {
   "display_name": "Python 3",
   "language": "python",
   "name": "python3"
  },
  "language_info": {
   "codemirror_mode": {
    "name": "ipython",
    "version": 3
   },
   "file_extension": ".py",
   "mimetype": "text/x-python",
   "name": "python",
   "nbconvert_exporter": "python",
   "pygments_lexer": "ipython3",
   "version": "3.8.5"
  }
 },
 "nbformat": 4,
 "nbformat_minor": 4
}
