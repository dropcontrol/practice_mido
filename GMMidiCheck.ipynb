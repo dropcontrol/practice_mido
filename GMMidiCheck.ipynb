{
 "cells": [
  {
   "cell_type": "code",
   "execution_count": 3,
   "metadata": {},
   "outputs": [],
   "source": [
    "import pprint\n",
    "import sys\n",
    "# 起動直後に一度だけやる。\n",
    "# sys.path.append('./Users/yamato/Src/practice_mido/module')\n",
    "# とはいえ起動時にjupyter labの実行ディレクトリは読み込まれているようだ。\n",
    "\n",
    "pprint.pprint(sys.path)"
   ]
  },
  {
   "cell_type": "code",
   "execution_count": 2,
   "metadata": {},
   "outputs": [],
   "source": [
    "import os\n",
    "import shutil\n",
    "import midi_utill\n",
    "import importlib\n",
    "from tqdm import tqdm\n",
    "\n",
    "midiFileDir = '130000_Pop_Rock_Classical_Videogame_EDM_MIDI_Archive[[]6_19_15[]]'\n",
    "GMMidiFileDir = 'GMMIDI'\n",
    "\n",
    "os.makedirs(GMMidiFileDir, exist_ok=True)\n"
   ]
  },
  {
   "cell_type": "code",
   "execution_count": 3,
   "metadata": {},
   "outputs": [
    {
     "data": {
      "text/plain": [
       "['130000_Pop_Rock_Classical_Videogame_EDM_MIDI_Archive[6_19_15]/0/Celine Dion - Fly 2.mid',\n",
       " '130000_Pop_Rock_Classical_Videogame_EDM_MIDI_Archive[6_19_15]/0/040_-_Ibiza_Dreams__J.D._20110615094526.mid',\n",
       " '130000_Pop_Rock_Classical_Videogame_EDM_MIDI_Archive[6_19_15]/0/009count.mid',\n",
       " '130000_Pop_Rock_Classical_Videogame_EDM_MIDI_Archive[6_19_15]/0/040 - Ibiza Dreams.mid',\n",
       " '130000_Pop_Rock_Classical_Videogame_EDM_MIDI_Archive[6_19_15]/0/09carnivalcuckoo.mid',\n",
       " '130000_Pop_Rock_Classical_Videogame_EDM_MIDI_Archive[6_19_15]/0/040 Feat Erica Baxter - Dreams (Lost Witness Remix).mid',\n",
       " '130000_Pop_Rock_Classical_Videogame_EDM_MIDI_Archive[6_19_15]/0/040FeatEricaBaxter_-_DreamsLostWitnessRemix__SamCera_20120708165703.mid',\n",
       " '130000_Pop_Rock_Classical_Videogame_EDM_MIDI_Archive[6_19_15]/0/070527 (Oh for a Poet).MID',\n",
       " '130000_Pop_Rock_Classical_Videogame_EDM_MIDI_Archive[6_19_15]/0/070110 (The Raven Days).MID',\n",
       " '130000_Pop_Rock_Classical_Videogame_EDM_MIDI_Archive[6_19_15]/0/070606 (Hail the Comic Song).MID',\n",
       " \"130000_Pop_Rock_Classical_Videogame_EDM_MIDI_Archive[6_19_15]/0/070102 (I'll Love You Always).MID\",\n",
       " '130000_Pop_Rock_Classical_Videogame_EDM_MIDI_Archive[6_19_15]/0/051230.MID',\n",
       " '130000_Pop_Rock_Classical_Videogame_EDM_MIDI_Archive[6_19_15]/0/050620B (The Children of the Night).MID',\n",
       " '130000_Pop_Rock_Classical_Videogame_EDM_MIDI_Archive[6_19_15]/0/070107 (Music of the Third Kind).MID',\n",
       " '130000_Pop_Rock_Classical_Videogame_EDM_MIDI_Archive[6_19_15]/0/060107-Sonnet 73.MID',\n",
       " '130000_Pop_Rock_Classical_Videogame_EDM_MIDI_Archive[6_19_15]/0/060222-Tribute to Mozart.MID']"
      ]
     },
     "execution_count": 3,
     "metadata": {},
     "output_type": "execute_result"
    }
   ],
   "source": [
    "importlib.reload(midi_utill)\n",
    "\n",
    "midi_utill.getMidiFileNames(midiFileDir+'/0')\n",
    "\n"
   ]
  },
  {
   "cell_type": "code",
   "execution_count": 4,
   "metadata": {},
   "outputs": [
    {
     "name": "stderr",
     "output_type": "stream",
     "text": [
      " 31%|███▏      | 5/16 [00:00<00:01,  7.99it/s]"
     ]
    },
    {
     "name": "stdout",
     "output_type": "stream",
     "text": [
      "130000_Pop_Rock_Classical_Videogame_EDM_MIDI_Archive[6_19_15]/0/009count.mid\n"
     ]
    },
    {
     "name": "stderr",
     "output_type": "stream",
     "text": [
      " 62%|██████▎   | 10/16 [00:00<00:00, 11.25it/s]"
     ]
    },
    {
     "name": "stdout",
     "output_type": "stream",
     "text": [
      "130000_Pop_Rock_Classical_Videogame_EDM_MIDI_Archive[6_19_15]/0/070527 (Oh for a Poet).MID\n",
      "130000_Pop_Rock_Classical_Videogame_EDM_MIDI_Archive[6_19_15]/0/070110 (The Raven Days).MID\n",
      "130000_Pop_Rock_Classical_Videogame_EDM_MIDI_Archive[6_19_15]/0/070606 (Hail the Comic Song).MID\n"
     ]
    },
    {
     "name": "stderr",
     "output_type": "stream",
     "text": [
      " 75%|███████▌  | 12/16 [00:00<00:00, 10.57it/s]"
     ]
    },
    {
     "name": "stdout",
     "output_type": "stream",
     "text": [
      "130000_Pop_Rock_Classical_Videogame_EDM_MIDI_Archive[6_19_15]/0/070102 (I'll Love You Always).MID\n",
      "130000_Pop_Rock_Classical_Videogame_EDM_MIDI_Archive[6_19_15]/0/051230.MID\n"
     ]
    },
    {
     "name": "stderr",
     "output_type": "stream",
     "text": [
      "100%|██████████| 16/16 [00:01<00:00, 12.12it/s]"
     ]
    },
    {
     "name": "stdout",
     "output_type": "stream",
     "text": [
      "130000_Pop_Rock_Classical_Videogame_EDM_MIDI_Archive[6_19_15]/0/050620B (The Children of the Night).MID\n",
      "130000_Pop_Rock_Classical_Videogame_EDM_MIDI_Archive[6_19_15]/0/070107 (Music of the Third Kind).MID\n",
      "130000_Pop_Rock_Classical_Videogame_EDM_MIDI_Archive[6_19_15]/0/060107-Sonnet 73.MID\n",
      "130000_Pop_Rock_Classical_Videogame_EDM_MIDI_Archive[6_19_15]/0/060222-Tribute to Mozart.MID\n",
      "10\n",
      "6\n"
     ]
    },
    {
     "name": "stderr",
     "output_type": "stream",
     "text": [
      "\n"
     ]
    }
   ],
   "source": [
    "importlib.reload(midi_utill)\n",
    "\n",
    "# midi_utill.getMidiHexData(\"ADAGIET6.mid\") # hexでのmidiが取れた\n",
    "\n",
    "# for midifilename in midi_utill.getMidiFileNames(midiFileDir+'/1'):\n",
    "#     print(midifilename)\n",
    "#     print(midi_utill.isGM(midifilename))\n",
    "#     print(midi_utill.isGS(midifilename))\n",
    "#     print(midi_utill.isXG(midifilename))\n",
    "\n",
    "trueGM = 0\n",
    "falseGM = 0\n",
    "\n",
    "\n",
    "# for test    \n",
    "for midiFileName in tqdm(midi_utill.getMidiFileNames(midiFileDir+'/0')):\n",
    "    try:\n",
    "        if midi_utill.isGMGSXG(midiFileName):\n",
    "            shutil.copy(midiFileName, GMMidiFileDir)\n",
    "            trueGM += 1\n",
    "        else:\n",
    "            falseGM += 1\n",
    "    except:\n",
    "        pass\n",
    "\n",
    "print(trueGM)\n",
    "print(falseGM)\n"
   ]
  },
  {
   "cell_type": "code",
   "execution_count": null,
   "metadata": {},
   "outputs": [
    {
     "name": "stderr",
     "output_type": "stream",
     "text": [
      "  0%|          | 182/128451 [00:44<8:00:27,  4.45it/s] "
     ]
    }
   ],
   "source": [
    "importlib.reload(midi_utill)\n",
    "\n",
    "dirList = midi_utill.getDirList(midiFileDir)\n",
    "count = 0\n",
    "countGM = 0\n",
    "midiFileNames = []\n",
    "GMMidiFileNames = []\n",
    "\n",
    "for dirPath in dirList:\n",
    "    count = count + len(midi_utill.getMidiFileNames(midi_utill.escapeChar(dirPath)))\n",
    "    midiFileNames.extend(midi_utill.getMidiFileNames(midi_utill.escapeChar(dirPath)))\n",
    "    \n",
    "trueGM = 0\n",
    "falseGM = 0\n",
    "falseFileOpen = 0\n",
    "\n",
    "for midiFileName in tqdm(midiFileNames):\n",
    "    try:\n",
    "        if midi_utill.isGMGSXG(midiFileName):\n",
    "            shutil.copy(midiFileName, GMMidiFileDir)\n",
    "            trueGM += 1\n",
    "            \n",
    "        else:\n",
    "            falseGM += 1\n",
    "    except:\n",
    "        pass\n",
    "\n",
    "\n",
    "print(trueGM)\n",
    "print(falseGM)"
   ]
  },
  {
   "cell_type": "code",
   "execution_count": null,
   "metadata": {},
   "outputs": [],
   "source": [
    "# for confirm  \n",
    "\n",
    "trueGM = 0\n",
    "falseGM = 0\n",
    "\n",
    "for midiFileName in tqdm(midi_utill.getMidiFileNames(GMMidiFileDir)):\n",
    "    try:\n",
    "        if midi_utill.isGMGSXG(midiFileName):\n",
    "            trueGM += 1\n",
    "        else:\n",
    "            falseGM += 1\n",
    "    except:\n",
    "        pass\n",
    "\n",
    "print(trueGM)\n",
    "print(falseGM)\n"
   ]
  },
  {
   "cell_type": "code",
   "execution_count": null,
   "metadata": {},
   "outputs": [],
   "source": []
  },
  {
   "cell_type": "code",
   "execution_count": null,
   "metadata": {},
   "outputs": [],
   "source": []
  }
 ],
 "metadata": {
  "kernelspec": {
   "display_name": "Python 3",
   "language": "python",
   "name": "python3"
  },
  "language_info": {
   "codemirror_mode": {
    "name": "ipython",
    "version": 3
   },
   "file_extension": ".py",
   "mimetype": "text/x-python",
   "name": "python",
   "nbconvert_exporter": "python",
   "pygments_lexer": "ipython3",
   "version": "3.8.5"
  }
 },
 "nbformat": 4,
 "nbformat_minor": 4
}
